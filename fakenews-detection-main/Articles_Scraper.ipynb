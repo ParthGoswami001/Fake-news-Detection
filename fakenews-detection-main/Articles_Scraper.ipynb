{
 "cells": [
  {
   "cell_type": "markdown",
   "id": "9d293d05",
   "metadata": {},
   "source": [
    "## Automate news article collection for training the model using web scraper "
   ]
  },
  {
   "cell_type": "markdown",
   "id": "8f5023ad",
   "metadata": {},
   "source": [
    "#### Import libraries for web scraping"
   ]
  },
  {
   "cell_type": "code",
   "execution_count": 1,
   "id": "3def005f",
   "metadata": {},
   "outputs": [],
   "source": [
    "from bs4 import BeautifulSoup\n",
    "from urllib.request import Request, urlopen"
   ]
  },
  {
   "cell_type": "markdown",
   "id": "2d1c263f",
   "metadata": {},
   "source": [
    "In this example, we demonstrate web scraping of news articles on the web application **Factly**. You can use any application of your choice"
   ]
  },
  {
   "cell_type": "code",
   "execution_count": 2,
   "id": "b39bda86",
   "metadata": {},
   "outputs": [],
   "source": [
    "url = \"https://factly.in/category/english/\"\n",
    "req = Request(url, headers={'User-Agent': 'Mozilla/5.0'})\n",
    "webpage = urlopen(req)"
   ]
  },
  {
   "cell_type": "code",
   "execution_count": 3,
   "id": "30122e6c",
   "metadata": {},
   "outputs": [],
   "source": [
    "html = webpage.read().decode(\"utf-8\")\n",
    "soup = BeautifulSoup(html, \"html.parser\")"
   ]
  },
  {
   "cell_type": "markdown",
   "id": "1bc72462",
   "metadata": {},
   "source": [
    "The HTML document of the page was analysed and as a result the below logic is applied to scrape the articles."
   ]
  },
  {
   "cell_type": "code",
   "execution_count": 4,
   "id": "30648cef",
   "metadata": {},
   "outputs": [],
   "source": [
    "articles = [article.find(\"h2\").find(\"a\").get(\"href\") for article in soup.find(class_ = \"col-8 main-content\").find_all(\"article\")]"
   ]
  },
  {
   "cell_type": "code",
   "execution_count": 5,
   "id": "e2ddbe7d",
   "metadata": {},
   "outputs": [
    {
     "data": {
      "text/plain": [
       "['https://factly.in/video-showing-golden-lord-meenakshi-idol-at-chemmanur-international-jewellers-shared-as-from-madurai-meenakshi-temple/',\n",
       " 'https://factly.in/this-times-business-newspaper-clipping-alleging-losses-in-5g-auction-is-an-edited-one/',\n",
       " 'https://factly.in/no-amazon-has-not-launched-bitcoinprime-the-link-given-in-this-post-is-fraudulent/',\n",
       " 'https://factly.in/rishi-sunak-is-an-indian-origin-british-mp-who-right-now-is-just-a-contender-to-become-the-next-pm-of-the-uk/',\n",
       " 'https://factly.in/the-shivalingam-seen-in-this-video-is-located-in-malaysia-not-tamil-nadu/',\n",
       " 'https://factly.in/an-old-video-of-jaipur-floods-is-being-shared-as-that-of-recent-jodhpur-floods/',\n",
       " 'https://factly.in/old-video-of-justin-trudeau-before-he-became-the-pm-of-canada-shared-as-him-living-now-without-security/',\n",
       " 'https://factly.in/ram-nath-kovind-has-not-made-these-statements-praising-mahatma-gandhi-and-the-congress-party/',\n",
       " 'https://factly.in/ruchi-soyas-debt-of-%e2%82%b92212-crores-was-written-off-even-before-its-acquisition-by-patanjali-ayurvedic/',\n",
       " 'https://factly.in/an-edited-photo-is-falsely-shared-as-an-amazing-picture-of-a-golden-snake/']"
      ]
     },
     "execution_count": 5,
     "metadata": {},
     "output_type": "execute_result"
    }
   ],
   "source": [
    "articles"
   ]
  },
  {
   "cell_type": "code",
   "execution_count": 6,
   "id": "7e171eaf",
   "metadata": {
    "scrolled": false
   },
   "outputs": [
    {
     "name": "stdout",
     "output_type": "stream",
     "text": [
      "Article: \n",
      "A video is being shared on social media claiming it as the visuals of the Madurai Meenakshi idol decorated in golden attire. This post claims that golden attire will be offered to the Madurai Meenakshi idol once a year in the Arulmigu Meenakshi Sundareshwarar Temple in Madurai. Let’s verify the claim made in the post.Claim: Visuals of the Madurai Meenakshi idol when decorated with golden attire.Fact: The video shared in the post shows Madurai Meenakshi idol displayed at Chemmanur International Jewellers showroom in Madurai, Tamil Nadu. This idol was carved using 210 kg of gold and silver. This video does not show the Meenakshi idol inside the Arulmigu Meenakshi Sundareshwarar Temple in Madurai. Hence, the claim made in the post is MISLEADING. On reverse image searching the screenshots in the video, a similar picture of a golden idol was found on the Getty Images website. The description of the photo states, “Idol of Goddess Madurai Meenakshi Amman made from 210kg of pure gold and silver displayed at a jewelry shop near the historic Madurai Meenakshi Amman Temple (Arulmigu Meenakshi Sundareshwarar Temple) located in Madurai, Tamil Nadu, India”.When we searched for further sources using these keywords, we found similar visuals of a golden Meenakshi idol in a video published by the Chemmanur International Jewellers Madurai on their Facebook page. Describing it as a video for customers, Chemmanur International Jewellers in the description stated, “Blessing of Goddess Meenakshi Amman is Here. Idol carved using 210 Kg Gold & Silver Blessed in Madurai Meenakshi Amman Kovil”. A text description below the Meenakshi idol displayed outside the Chemmanur International Jewellers showroom states, “The Goddess Madurai Menakshi Amman is here. This idol carved using 210 kg of gold and silver Blessed in Madurai Meenakshi Amman Kovil”. A few pictures of this golden Madurai Meenakshi idol displayed outside the Chemmanur International Jewellers Madurai can be seen here, here and here. During the festivals, Tirukalyanam and other ceremonies, goddess Meenakshi will be decorated with Gold ornaments. But the photo shared in the post does not show the actual Meenakshi idol inside the Madurai Meenakshi Temple.To sum it up, a video showing a golden idol of goddess Meenakshi displayed at Chemmanur International Jewellers is shared as from Madurai Meenakshi Temple. \n",
      "\n",
      "Nature of the article: MISLEADING.\n",
      "\n",
      "\n",
      "\n",
      "Article: \n",
      "In the context of recently held auctions for 5G spectrum allocation in India, a Facebook post carrying an image of newspaper clipping is being widely shared. The headline of the article says, “₹2800000000000000- 5G spectrum auctions suffer a record loss of ₹2.8 lakh Cr”. Let’s verify the claim made in the post.Claim: Times of India published an article with headline, “5G spectrum auctions suffer a record loss of ₹2.8 lakh Cr”.Fact: The original newspaper article regarding the same issue has the headline- “5G spectrum auctions earn Centre record Rs 1.5 lakh crore”. It was published by Times of India in its Business Page on 02 August 2022. Hence the claim made in the post is FALSEWe searched for the Times of India reports on the 5G spectrum allocations and came across this article published on its website on 02 August 2022. Taking the cue from this, we searched for the e-paper edition of the same date. After through the e-paper, we found that the news about the 5G spectrum allocations was published in “TIMES BUSINESS” page. But the headline reads, “5G spectrum auctions earn Centre record Rs 1.5 lakh crore” which is completely different from the headline shown in viral image.The comparison of the two images can be seen below with the highlighted similarities:By comparing the two images, it is evident that the headline in the viral news paper clipping is an edited one. Also, there is no mention of the 2.8 lakh crore losses in the original article. Moreover, the edited headline contradicts itself by writing 2.8 lakh crore in numbers as 2800000000000000, which should actually be 2800000000000.Further investigation lead us to this article, where former Telecom minister A.Raja says, “The auction did not meet the expectation of up to ₹5 lakh crore, which was projected by the government. “But now the 5G has been auctioned for only ₹1.5 lakh crore. There is a huge scam in this”.However, the minister of communications, Ashwini Vaishnaw condemned the remarks by clarifying that, of the total spectrum put on auction, the sold spectrum was valued at ₹1,50,173 crore and the unsold spectrum was valued at ₹2,81,432 crore. Spectrum bands of 600 MHz and 2300 MHz remained unsold entirely, and Mr. Vaishnaw said this was due to the weak ecosystem of mobile telephony in these segments. More about the spectrum allocations in India can be read here. The complete details of the 5G spectrum auctions can be found here.To summarise, this Times Business newspaper clipping alleging loss in 5G auction is an edited one. \n",
      "\n",
      "Nature of the article: FALSE\n",
      "\n",
      "\n",
      "\n",
      "Article: \n",
      "A post on social media claims that Amazon has launched a new platform named BitcoinPrime. Let’s verify the claim made in the post.Claim: Amazon launches its new platform called BitcoinPrime.Fact: Amazon has not launched any platform called BitcoinPrime. The link mentioned in the post leads to fraudulent website which at first glance looks like a Financial Times article. Hence, the claim made in the post is FALSE.The post has a link attached to it, and clicking on that led us to a website which on first glance looked like the Financial Times website. But the URL of the website is not of Financial Times.  Besides that, clicking on any of the hyperlinks in the website only leads to the sign-up box on the website where it says ‘change your life today.’ Under that are three columns: First Name, Last Name and Email.To cross-check, we searched on the internet with relevant keywords to understand if the Financial Times website had published any such article. We found that the website has not published anything about Amazon launching BitcoinPrime. Further, we searched on the internet to check the same, but we did not find any credible information. Since Amazon is a well known multinational Corporation, any new service or product launched by them would get extensive media coverage. Since there is no such coverage,  it can be concluded that Amazon has not launched any new platform named BitcoinPrime.Also, there is an image in the article with a caption that reads ‘Interview with Amazon CEO Jeff Bezos, about BitcoinPrime.’ A reverse image search on the image led us to a tweet from Jeff Bezos. The tweet contains a short video in which Bollywood actor Shahrukh Khan and Director Zoya Akhtar sit with him. This is an event organised by Amazon Prime Video in January 2020, and the full video can be seen here.To summarise, Amazon has not launched a new platform called BitcoinPrime; the link given in this post is fraudulent. \n",
      "\n",
      "Nature of the article: FALSE.\n",
      "\n",
      "\n",
      "\n",
      "Article: \n",
      "Update (05 August 2022):Another post accompanying a video is also being shared stating that Rishi Sunak was elected as the new Prime Minister of Britain. The video actually shows the results of the final run-off contest for the leadership of the Conservative Party in the UK and and British Prime Minister. On 20 July 2022, Rishi Sunak won the final voting round with 137 votes and will have to with second-placed Truss, who had secured 113 votes in the final round to become the next British Prime Minister. The final results on the vote between Sunak and Truss will are due to be announced on 05 September 2022.Published (13 July 2022):A post is being widely shared on social media claiming that Rishi Sunak had been elected as the new Prime Minister of Britain. Let us fact-check the claim made in the post.Claim: Rishi Sunak elected as Britain’s Prime Minister.Fact: Boris Johnson resigned as the Conservative party leader; he is still the Prime Minister of UK till a new PM is elected reportedly by 05 September 2022. There need not necessarily be a general election in UK because, when a Prime Minister resigns, there isn’t automatically a general election. In the race to become the leader of the Conservative party and the next Prime Minister, eight candidates are in the fray. Indian-origin British MP Rishi Sunak is one of them. Rishi Sunak’s Father-in-law is Narayana Murthy of Infosys. As of now, Rishi Sunak is just a contender, he is not elected as the new Prime Minister of UK. Hence, the claim made in the post is FALSE.Boris Johnson became the Prime Minister of UK on 24 July 2019. He announced his pending resignation on 07 July 2022 but reportedly is going to remain as the Prime Minister until a new leader is elected by the conservative party. Boris Johnson resigned as Conservative Party leader, not as Prime Minister, as there is always a prime minister.Since Boris Johnson is going to resign as the Prime Minister of UK, there will be a new PM. He/ She will reportedly be elected by 05 September 2022. There need not necessarily be a general election in UK because, when a Prime Minister resigns, there isn’t automatically a general election. The conservative party is in power in UK right now. The newly elected Conservative party leader would most likely become the next Prime Minister, as Boris Johnson stepped down from the job.In the race to become the leader of the Conservative party and the next Prime Minister, eight candidates are in the fray. Indian-origin British MP Rishi Sunak is one of them. Rishi Sunak’s Father-in-law is Narayana Murthy of Infosys. As of now, Rishi Sunak is just a contender, he is not elected as the new Prime Minister of UK.I’m standing to be the next leader of the Conservative Party and your Prime Minister.Let’s restore trust, rebuild the economy and reunite the country. #Ready4RishiSign up 👉 https://t.co/KKucZTV7N1 pic.twitter.com/LldqjLRSgF— Rishi Sunak (@RishiSunak) July 8, 2022 To sum it up, Rishi Sunak is an Indian-origin British MP who right now is a contender to become the next PM of the UK. \n",
      "\n",
      "Nature of the article: FALSE\n",
      "\n",
      "\n",
      "\n"
     ]
    },
    {
     "name": "stdout",
     "output_type": "stream",
     "text": [
      "Article: \n",
      "A post accompanied by a video showing a Shivalingam is being shared on social media. The post claims that the Shivalingam is located in Tamil Nadu. It further claims that throughout the year, water from the Sky falls only on the Shivalingam, leaving its surroundings. Let’s fact-check these claims in this article.Claim: Water from the Sky falls only on this Shivalingam throughout the year, and this is located in Tamil NaduFact: The Shivalingam seen in the video is located in Malaysia. It does not rain throughout the year on the Shivalingam. Hence the claims made in the post are MISLEADING.A reverse image search with the screenshots of the video led us to a few YouTube videos. One of these videos is the same as the one in the viral post, and its title, written in Tamil, mentions the location as Cork highway, Malaysia. Another video showing the exact Shivalingam titled Shivan Temple (Bentong Karak Old Road) was also found.We searched on the internet with these clues and relevant keywords and found that this Shivalingam is located in Lord Shiva Meditation Sanctuary, 68100 Batu Caves, Selangor, Malaysia. The images uploaded to Google Maps also match the Shivalingam shown in the viral video.To confirm if water falls on the Shivalingam throughout the year, leaving the surroundings, we reviewed the videos found during the search process. We can clearly see in this video that no water is falling onto the Shivalingam from the Sky.Even if we look closely at the video from the original post, we find no trace of rainwater falling on the Shivalingam. There are a few other videos uploaded to YouTube that confirm the same. These videos can be seen here, here and here.We have not found any official website of the Shivan Meditation Sanctuary. One article published on www.malaysiahanuman.com was found in which they mentioned about this place. There was no mention of water falling on the Shivalingam continuously for 365 days a year.To sum it up, the Shivalingam seen in this video is located in Malaysia, not Tamil Nadu. It does not rain throughout the year on the Shivalingam. \n",
      "\n",
      "Nature of the article: MISLEADING\n",
      "\n",
      "\n",
      "\n",
      "Article: \n",
      "In the wake of recent heavy floods in Rajasthan’s Jodhpur city, a video is being widely shared on social media platforms claiming that the video shows recent visuals of Jodhpur floods. The video shows two persons being swept away by the flood water before they were rescued by locals. Let’s verify the claim made in the post.Claim: Recent flood visuals from Rajasthan’s Jodhpur city.Fact: According to media reports, this video belongs to flooded streets of Jaipur in August 2020. However a journalist, in August 2020, tweeted that this was a three-year-old video. But we couldn’t find any source of this video prior to August 2020. However, it is certain that the viral video is at least 2 years old video related to Jaipur floods and thus not related to recent Jodhpur floods. Hence the claim made in the post is MISLEADING.We ran the Reverse Image search using InVID WeVerify tool and found that the same video was already telecast in 2020 by several News channels. They can be seen here, here, and here.CNN-News18 uploaded the video on 14 August 2020 with a title, “Man swept Away By Rains in Jaipur, Locals Rush To Rescue Amid Flood Like situation”TV9 Bharathvarsh uploaded the video on 14 August 2020 saying, ‘Jaipur में भारी बारिश.. सड़कों पर सैलाब.. पानी के बहाव में बहे लोग’ (English translation: Heavy rain in Jaipur.. flooded the roads.. people were swept away by the flow of water.)The Indian Express published an article 15 August 2020 on its website explaining the situation in flooded city of Jaipur.However, a journalist by name Soumit Mohan, posted the same video on 14 August 2020 through his official Twitter handle saying, “Yesterday, by mistake I posted viral video of #JaipurRains as #DelhiRains, for that am sorry. The below video is 3 years old video of Jaipur rains being shared as Today’s rains.” Based on this information, we tried to find the earlier version of this video but couldn’t find anything other than the videos/news articles posted in August 2020. However, it is evident that the viral video is at least 2 years old and thus not related to recent Jodhpur floods.Yesterday, by mistake I posted viral video of #JaipurRains as #DelhiRains, for that am sorry. The below video is 3 years old video of Jaipur rains being shared as Today's rains. #FakeNews #FAKE pic.twitter.com/Cdy9jtcUPs— Soumit Mohan (@SoumitMohan) August 14, 2020 Though Rajasthan’s Jodhpur received heavy rainfall recently, this video is not related to the recent Jodhpur floods.To sum it up, an old video of Jaipur floods is being shared as that of recent Jodhpur floods. \n",
      "\n",
      "Nature of the article: MISLEADING.\n",
      "\n",
      "\n",
      "\n",
      "Article: \n",
      "A post containing a video of Canadian Prime Minister Justin Trudeau walking into a building without security is widely shared on social media. The post description reads, ‘This is the Prime Minister of Canada; he lives without security.’ Let’s fact-check the claim via this article.Claim: The Prime Minister of Canada, Justin Trudeau, lives without security.Fact: The post contains an old video of Justin Trudeau before he became the Prime Minister of Canada. Contrary to what the post claims, the Canadian Prime Minister is guarded by a special team of the Royal Canadian Mounted Police (RCMP) named Prime Minister’s Protective Detail (PMPD). Hence the claim made in the post is MISLEADING.After doing a reverse image search on the screenshots of the video, we found a longer version of the video on YouTube. CBC News uploaded the video, and its title reads. ‘Exclusive: Justin Trudeau arrives at The Peace Tower in Ottawa.’Uploaded on 21st October 2015, the video description reads, ‘The prime minister-designate walks through the doors of The Peace Tower on Parliament Hill for the first time ….’. Justin Trudeau was sworn in as the Prime Minister on 04 November 2015. So, we can conclude that this video is from before he became the PM of Canada.Who Guards the Prime Minister of Canada?The Prime Minister is one of the most important persons in Canada. Prime Minister Justin Trudeau is guarded 24/7 by a special unit of Canada’s Royal Canadian Mounted Police (RCMP) called Prime Minister’s Protective Detail (PPMD).Videos and photos of Mr Trudea accompanied by his security guards are available on the Internet. Some of them can be seen here and here.With this evidence, we can conclude that Canadian PM Justin Trudeau is accompanied by his security guards and the post claims incorrectly that he lives without any security guards.To sum it up, old video of Justin Trudeau before he became the PM of Canada is being shared as him living now without security. \n",
      "\n",
      "Nature of the article: MISLEADING\n",
      "\n",
      "\n",
      "\n",
      "Article: \n",
      "A post is being shared on social media with a description that reads, ‘India can progress in the world only by following Gandhi’s path; Congress has taken this country far ahead-Ram Nath Kovind, Ex-President.’ Let’s verify these claims.Claim: Ram Nath Kovind said that India could progress in the world only by following Gandhi’s path and that Congress has taken our country far ahead.Fact: Ram Nath Kovind has never directly said what the post claims, but in his message to the nation on the eve of Gandhi Jayanthi, he said ‘Let us take a pledge that we will continue to strive for making India a country of his (Gandhi) dreams while adhering to his teachings, ideals and values.” In a different speech he gave on the eve of 2021 Republic Day, he spoke about the contributions of our freedom fighters. He has not said anything about the Congress party as claimed in the post. Hence the post is MISLEADING.We searched the internet with relevant keywords and found several posts similar to the post; one even dates back to 2018. These posts can be seen here and here. We then searched to  check if the former President has made those comments as the post claims. Had the former President of India made these statements, media would have reported the statement widely. But no relevant news reports were found to indicate that he made those statements about the Congress party.Then we looked at various speeches of Ram Nath Kovind to further know if he had made such statements. Addressing the nation on the eve of Gandhi Jayanthi in 2021, the former President has said, “Let us take a pledge that we will continue to strive for making India a country of his dreams while adhering to his teachings, ideals and values.” However, he did not make the exact statement as claimed in the post.From the message he gave on the eve of Gandhi Jayanthi in 2020, we found that he said, ‘On this auspicious occasion of Gandhi Jayanti, let us resolve to rededicate ourselves to the welfare and progress of the nation, to follow the mantra of truth and non-violence, and to build a clean, capable, strong and prosperous India, and to make Gandhiji’s dreams come true.’Regarding the statement that the Congress party had taken this country far ahead, we did not find any speech of his where he spoke about the Congress Party. In this year’s President’s address to the nation during republic day, he spoke about the struggle of our freedom fighters.In his Republic day speech of 2020, he said,’ Government and opposition both have important roles to play. While giving expression to their political ideas, both must move forward in tandem to ensure that development of the country and welfare of its people are promoted consistently.’ But he never made any statement on the Congress party as the post claims.To summarise, Ram Nath Kovind has not made these statements praising the Congress Party. \n",
      "\n",
      "Nature of the article: MISLEADING\n",
      "\n",
      "\n",
      "\n"
     ]
    },
    {
     "name": "stdout",
     "output_type": "stream",
     "text": [
      "Article: \n",
      "A post is being widely shared on social media claiming that the loan of  ₹2,212 crores taken by Baba Ramdev’s company Ruchi Soya was waived off. Let’s fact-check the claim made in the post.Claim: Ramdev baba owned Ruchi soya company’s debt of ₹2,212 crores was waived off.Fact: According to the RBI report, Ruchi soya’s debt of ₹2,212 crores were technically written off, which means, the lending banks clean up the bad loans from their balance sheet. However, the loan account still stays to continue with the lending bank as they can try to recover it later. Moreover, in December 2017, Ruchi Soya Industries entered the Corporate Insolvency Resolution Process because of its total debt of about ₹12,000 crores. In December 2019, Patanjali Ayurved, co-founded by Baba Ramdev acquired the debt ridden Ruchi Soya for ₹4,350 crores. Hence, the claim made in the post is MISLEADING.We we searched for the list of the ‘Top 50 Wilful defaulters in India’ and found the details in the Twitter account of Saket Gokhale, a spokesperson for All India Trinamool Congress. He filed an RTI petition on 19 March 2020, seeking the information of ‘Top 50 Wilful defaulters & defaulted amount in Indian banking system as on 16 February 2020’. Upon his query, RBI released the list of wilful defaulters as on 30 September 2019.This is why Finance Minister @nsitharaman tried to escape from a straight & clear question asked by Rahul Gandhi. Sadly – the truth can never stay hidden too long. Massive kudos to RG for calling the govt’s bluff way back in March!PS: Here’s the list if anyone missed it 😊 https://t.co/OA4moYdTYz pic.twitter.com/JsaoBewhBT— Saket Gokhale (@SaketGokhale) April 28, 2020 The list shows ‘Ruchi Soya Industries Limited’ whose debt of Rs.2,212 Cr was technically/prudentially written off, which is not same as waived off. As per RBI, write-off just clears the bad loans from the bank balance sheets but these bad accounts still continue to stay in the bank books and the banks try to recover these loans by other means. Writing off a bad loan is not same as waving off.Write-off vs Waive-off:Writing off a loan is a general practice implemented by banks to clean up their balance sheets. In the case of write-off, the lending banks clean up the bad loans from their balance sheet. However, the loan account still stays to continue with the lending bank as they can try to recover it later. Moreover, if any collateral is attached to the loan, then the lender confiscates them. Whereas, in the case of loan waive-off, the lender completely cancels the loan account, and the borrower is free from the debt. If any collateral is linked to the debt, then it will be returned to the borrower.Moreover, in December 2017, Ruchi Soya Industries entered into the Corporate Insolvency Resolution Process because of its total debt of about ₹12,000 crores. In December 2019, Patanjali Ayurved, co-founded by Baba Ramdev acquired the debt ridden Ruchi Soya for ₹4,350 crores. News reports regarding this can be found here, here and here.Hence, it is evident that Ruchi soya’s debt was written off even before its acquisition by Patanjali Ayurved. \n",
      "\n",
      "Nature of the article: MISLEADING\n",
      "\n",
      "\n",
      "\n",
      "Article: \n",
      "A photo is being shared on social media claiming it is an amazing real picture of a golden snake. Sharing the photo, this post asks people to see the golden snake on Naga Panchami to have good fortune. Let’s verify the claim made in the post.Claim: Amazing picture of a golden snake.Fact: The photo shared in the post is an edited picture created using digital tools. This golden snake photo was created by a Brazil-based designer named Mandrak. Hence, the claim made in the post is FALSE. On reverse image search of the photo shared in the post, the same photo was found in an article published by the ‘Wafflesatnoon’ website in December 2015. ‘Wafflesatnoon’ confirmed it as a digitally edited picture by crediting the photo to a designer named Mandrak.When we searched for further details using relevant keywords on the internet, we found the same photo on the ‘Design Crowd’ website. This photo was published by Mandrak, a Brazil-based designer,  as part of the ‘Alternate Materials: Gold’, a photoshop community contest held by the ‘Design Crowd’ website. As part of this contest, participants were asked to convert any ordinary image into pure gold. This golden snake photo designed by Mandrak was ranked the second in the competition. The official portfolio of Mandrak published on the ‘Design Crowd’ website can be seen here. Mandrak published the same photo with the title, “Photoshop Submission for ‘Alternate Materials: Gold’ Contest | Design 8967763”.The original picture from which this design was created can be seen here. Although there are a few reptile species that exist in golden colour, the photo shared in the post is an edited picture and does not show a real picture of a golden snake.To sum it up, an edited photo is falsely shared as an amazing picture of a golden snake. \n",
      "\n",
      "Nature of the article: FALSE\n",
      "\n",
      "\n",
      "\n"
     ]
    }
   ],
   "source": [
    "for article_url in articles:\n",
    "    if \"review:\" not in article_url and \"data:\" not in article_url and \"explainer:\" not in article_url:\n",
    "        article_req = Request(article_url, headers={'User-Agent': 'Mozilla/5.0'})\n",
    "        article_page = urlopen(article_req)\n",
    "        article_html = article_page.read().decode(\"utf-8\")\n",
    "        article_soup = BeautifulSoup(article_html, \"html.parser\")\n",
    "        article_content = article_soup.find(class_ = \"post-content-right\").get_text()\n",
    "        article_nature = article_soup.find(\"blockquote\").find_all(\"strong\")[2].get_text()\n",
    "        print(f\"Article: \\n{article_content}\\n\")\n",
    "        print(f\"Nature of the article: {article_nature}\")\n",
    "        print(\"\\n\\n\")"
   ]
  },
  {
   "cell_type": "code",
   "execution_count": null,
   "id": "83f47455",
   "metadata": {},
   "outputs": [],
   "source": []
  }
 ],
 "metadata": {
  "kernelspec": {
   "display_name": "Python 3 (ipykernel)",
   "language": "python",
   "name": "python3"
  },
  "language_info": {
   "codemirror_mode": {
    "name": "ipython",
    "version": 3
   },
   "file_extension": ".py",
   "mimetype": "text/x-python",
   "name": "python",
   "nbconvert_exporter": "python",
   "pygments_lexer": "ipython3",
   "version": "3.9.12"
  }
 },
 "nbformat": 4,
 "nbformat_minor": 5
}
