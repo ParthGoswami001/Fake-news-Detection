{
 "cells": [
  {
   "cell_type": "markdown",
   "metadata": {},
   "source": [
    "# FakeNewsDetection"
   ]
  },
  {
   "cell_type": "markdown",
   "metadata": {},
   "source": [
    "In this notebook, we will be solving a use case of 'Fake News Detection' - Predict if a news published in an article is 'Real' or 'Fake' for a sample data using ML Algorithms!"
   ]
  },
  {
   "cell_type": "markdown",
   "metadata": {},
   "source": [
    "**Note**: Update variables under **Variables** section if required before running the notebook. To run notebook cell by cell, click on a cell and click **Run** button below the Menu bar. Or to run all cells, select **Cell --> Run** All from Menu bar."
   ]
  },
  {
   "cell_type": "markdown",
   "metadata": {},
   "source": [
    "### Library imports"
   ]
  },
  {
   "cell_type": "code",
   "execution_count": 1,
   "metadata": {},
   "outputs": [
    {
     "name": "stderr",
     "output_type": "stream",
     "text": [
      "[nltk_data] Downloading package punkt to\n",
      "[nltk_data]     /home/divinecodes/nltk_data...\n",
      "[nltk_data]   Package punkt is already up-to-date!\n",
      "[nltk_data] Downloading package stopwords to\n",
      "[nltk_data]     /home/divinecodes/nltk_data...\n",
      "[nltk_data]   Package stopwords is already up-to-date!\n"
     ]
    }
   ],
   "source": [
    "#Import necessary libraries\n",
    "import pandas as pd\n",
    "import numpy as np\n",
    "import matplotlib.pyplot as plt\n",
    "import warnings\n",
    "warnings.filterwarnings('ignore')\n",
    "import nltk #Import NLTK ---> Natural Language Toolkit\n",
    "nltk.download('punkt')\n",
    "nltk.download('stopwords')\n",
    "from nltk.tokenize import sent_tokenize, word_tokenize, RegexpTokenizer\n",
    "from nltk.corpus import stopwords\n",
    "from nltk.stem import PorterStemmer\n",
    "from sklearn.feature_extraction.text import TfidfVectorizer"
   ]
  },
  {
   "cell_type": "markdown",
   "metadata": {},
   "source": [
    "### Data Description"
   ]
  },
  {
   "cell_type": "markdown",
   "metadata": {},
   "source": [
    "The sample dataset we use is **fakedata.csv** which is available in the current directory. This can be replaced with any dataset containing a text column with 'News' and a label column citing is the news is 'Real' or 'Fake'"
   ]
  },
  {
   "cell_type": "markdown",
   "metadata": {},
   "source": [
    "Attributes of **fakedata.csv** dataset:\n",
    "   1. **text**: text of the article\n",
    "   2. **label**: a label that marks the article as potentially unreliable\n",
    "        \n",
    "        1: fake \n",
    "        0: real"
   ]
  },
  {
   "cell_type": "markdown",
   "metadata": {},
   "source": [
    "### Variables"
   ]
  },
  {
   "cell_type": "code",
   "execution_count": 2,
   "metadata": {},
   "outputs": [],
   "source": [
    "#Specify the input filename\n",
    "INPUTFILE = r'fake_news_train.csv'"
   ]
  },
  {
   "cell_type": "code",
   "execution_count": 3,
   "metadata": {},
   "outputs": [],
   "source": [
    "#Specify the ratio of test data for prediction\n",
    "test_data_ratio = 0.1"
   ]
  },
  {
   "cell_type": "markdown",
   "metadata": {},
   "source": [
    "### Data Loading & Visualization"
   ]
  },
  {
   "cell_type": "code",
   "execution_count": 4,
   "metadata": {},
   "outputs": [],
   "source": [
    "# Load the file for analysis. Change the path of the file if required\n",
    "df = pd.read_csv(INPUTFILE, encoding='utf-8',header=0)"
   ]
  },
  {
   "cell_type": "code",
   "execution_count": 5,
   "metadata": {},
   "outputs": [
    {
     "data": {
      "text/html": [
       "<div>\n",
       "<style scoped>\n",
       "    .dataframe tbody tr th:only-of-type {\n",
       "        vertical-align: middle;\n",
       "    }\n",
       "\n",
       "    .dataframe tbody tr th {\n",
       "        vertical-align: top;\n",
       "    }\n",
       "\n",
       "    .dataframe thead th {\n",
       "        text-align: right;\n",
       "    }\n",
       "</style>\n",
       "<table border=\"1\" class=\"dataframe\">\n",
       "  <thead>\n",
       "    <tr style=\"text-align: right;\">\n",
       "      <th></th>\n",
       "      <th>news_text</th>\n",
       "      <th>label</th>\n",
       "    </tr>\n",
       "  </thead>\n",
       "  <tbody>\n",
       "    <tr>\n",
       "      <th>0</th>\n",
       "      <td>Get the latest from TODAY Sign up for our news...</td>\n",
       "      <td>fake</td>\n",
       "    </tr>\n",
       "    <tr>\n",
       "      <th>1</th>\n",
       "      <td>2d  Conan On The Funeral Trump Will Be Invited...</td>\n",
       "      <td>fake</td>\n",
       "    </tr>\n",
       "    <tr>\n",
       "      <th>2</th>\n",
       "      <td>It’s safe to say that Instagram Stories has fa...</td>\n",
       "      <td>real</td>\n",
       "    </tr>\n",
       "    <tr>\n",
       "      <th>3</th>\n",
       "      <td>Much like a certain Amazon goddess with a lass...</td>\n",
       "      <td>real</td>\n",
       "    </tr>\n",
       "    <tr>\n",
       "      <th>4</th>\n",
       "      <td>At a time when the perfect outfit is just one ...</td>\n",
       "      <td>real</td>\n",
       "    </tr>\n",
       "  </tbody>\n",
       "</table>\n",
       "</div>"
      ],
      "text/plain": [
       "                                           news_text label\n",
       "0  Get the latest from TODAY Sign up for our news...  fake\n",
       "1  2d  Conan On The Funeral Trump Will Be Invited...  fake\n",
       "2  It’s safe to say that Instagram Stories has fa...  real\n",
       "3  Much like a certain Amazon goddess with a lass...  real\n",
       "4  At a time when the perfect outfit is just one ...  real"
      ]
     },
     "execution_count": 5,
     "metadata": {},
     "output_type": "execute_result"
    }
   ],
   "source": [
    "df.head()"
   ]
  },
  {
   "cell_type": "code",
   "execution_count": 6,
   "metadata": {},
   "outputs": [],
   "source": [
    "df['label'] = np.where(df['label'] == 'fake', 1, 0)"
   ]
  },
  {
   "cell_type": "code",
   "execution_count": 7,
   "metadata": {},
   "outputs": [
    {
     "data": {
      "text/plain": [
       "(4998, 2)"
      ]
     },
     "execution_count": 7,
     "metadata": {},
     "output_type": "execute_result"
    }
   ],
   "source": [
    "df.shape"
   ]
  },
  {
   "cell_type": "markdown",
   "metadata": {},
   "source": [
    "The data has 2 columns. 'news_text' column which contains the text which has the News data and 'label' column which contains the label if the news is Real or Fake **{fake, real}**"
   ]
  },
  {
   "cell_type": "code",
   "execution_count": 8,
   "metadata": {},
   "outputs": [
    {
     "data": {
      "text/plain": [
       "([<matplotlib.patches.Wedge at 0x7ff6d8152220>,\n",
       "  <matplotlib.patches.Wedge at 0x7ff6d8152b80>],\n",
       " [Text(-1.1464648034448126, 0.3544269381159497, 'fake'),\n",
       "  Text(1.1464648034448124, -0.35442693811595033, 'real')],\n",
       " [Text(-0.6687711353428074, 0.20674904723430398, '40.5%'),\n",
       "  Text(0.6687711353428072, -0.20674904723430432, '59.5%')])"
      ]
     },
     "execution_count": 8,
     "metadata": {},
     "output_type": "execute_result"
    },
    {
     "data": {
      "image/png": "[encoded data removed]",
      "text/plain": [
       "<Figure size 432x288 with 1 Axes>"
      ]
     },
     "metadata": {},
     "output_type": "display_data"
    }
   ],
   "source": [
    "#Plot the distribution of the label column in the data\n",
    "cat_target=df.label\n",
    "label_size = [cat_target.sum(),len(cat_target)-cat_target.sum()]\n",
    "plt.pie(label_size,explode=[0.1,0.1],colors=['darkgrey','darkorange'],startangle=90,shadow=True,labels=['fake','real'],autopct='%1.1f%%')"
   ]
  },
  {
   "cell_type": "markdown",
   "metadata": {},
   "source": [
    "### Data Preprocessing"
   ]
  },
  {
   "cell_type": "markdown",
   "metadata": {},
   "source": [
    "Since the input data is 'text', it is necessary to preprocess it. The steps in preprocessing include **Tokenization, Stop word removal, Stemming, Tf-Idf Vectorizer.** During this preprocessing phase, the data is cleansed,treated and converted to vectors for the machine/algorithm to understand!"
   ]
  },
  {
   "cell_type": "code",
   "execution_count": 9,
   "metadata": {},
   "outputs": [],
   "source": [
    "# create a function to preprocess the data\n",
    "def preprocess_data(data):\n",
    "  \n",
    "  # 1. Tokenization\n",
    "    tk = RegexpTokenizer('\\s+', gaps = True)\n",
    "    text_data = [] # List for storing the tokenized data\n",
    "    for values in data.news_text:\n",
    "        tokenized_data = tk.tokenize(values) # Tokenize the news\n",
    "        text_data.append(tokenized_data) # append the tokenized data\n",
    "\n",
    "  # 2. Stopword Removal\n",
    "\n",
    "  # Extract the stopwords\n",
    "    sw = stopwords.words('english')\n",
    "    clean_data = [] # List for storing the clean text\n",
    "  # Remove the stopwords using stopwords\n",
    "    for data in text_data:\n",
    "        clean_text = [words.lower() for words in data if words.lower() not in sw]\n",
    "        clean_data.append(clean_text) # Appned the clean_text in the clean_data list\n",
    "  \n",
    "  # 3. Stemming\n",
    "\n",
    "  # Create a stemmer object\n",
    "    ps = PorterStemmer()\n",
    "    stemmed_data = [] # List for storing the stemmed data\n",
    "    for data in clean_data:\n",
    "        stemmed_text = [ps.stem(words) for words in data] # Stem the words\n",
    "        stemmed_data.append(stemmed_text) # Append the stemmed text\n",
    "  \n",
    "\n",
    "  # 4. tfidf vectorizer --> Term Frequency Inverse Document Frequency  \n",
    "  # Flatten the stemmed data\n",
    "\n",
    "    updated_data = []\n",
    "    for data in stemmed_data:\n",
    "        updated_data.append(\" \".join(data))\n",
    "\n",
    "  # TFID Vector object\n",
    "    tfidf = TfidfVectorizer()\n",
    "    tfidf_matrix = tfidf.fit_transform(updated_data)\n",
    "\n",
    "    return tfidf_matrix"
   ]
  },
  {
   "cell_type": "code",
   "execution_count": 10,
   "metadata": {},
   "outputs": [],
   "source": [
    "# preprocess the text data\n",
    "preprocessed_data = preprocess_data(df.drop('label', axis=1))"
   ]
  },
  {
   "cell_type": "markdown",
   "metadata": {},
   "source": [
    "The output of this preprocessing step is a matrix of vectors representing the input data. We concatenate this with the target column for subsequent steps"
   ]
  },
  {
   "cell_type": "code",
   "execution_count": 11,
   "metadata": {},
   "outputs": [],
   "source": [
    "features_df = pd.DataFrame(preprocessed_data.toarray())\n",
    "datadf = pd.concat([features_df,df['label']],axis=1)"
   ]
  },
  {
   "cell_type": "markdown",
   "metadata": {},
   "source": [
    "### Model Development"
   ]
  },
  {
   "cell_type": "markdown",
   "metadata": {},
   "source": [
    "We will be using **Scikit-learn** ML library for training and predicting. There are many algorithms available in Scikit-learn. We will be experimenting with **Logistic Regression & NaiveBayes** algorithms. Other algorithms available in the sklearn library https://scikit-learn.org/stable/supervised_learning.html that solves **Classification** problems can also be used"
   ]
  },
  {
   "cell_type": "code",
   "execution_count": 12,
   "metadata": {},
   "outputs": [],
   "source": [
    "# Split data into train & test in the ratio of 80:20\n",
    "from sklearn.model_selection import train_test_split \n",
    "X_train, X_test, y_train, y_test = train_test_split(datadf, datadf.label, test_size=test_data_ratio, random_state = 42)"
   ]
  },
  {
   "cell_type": "markdown",
   "metadata": {},
   "source": [
    "##### Code for Evaluation Metrics"
   ]
  },
  {
   "cell_type": "markdown",
   "metadata": {},
   "source": [
    "Since this is a Classification problem, we write a function to get evaluation metrics like Confusion Matrix, Accuracy, Precision, Recall etc."
   ]
  },
  {
   "cell_type": "code",
   "execution_count": 13,
   "metadata": {},
   "outputs": [],
   "source": [
    "# Evaluation Metrics for Classification models\n",
    "from sklearn import metrics\n",
    "from sklearn.metrics import confusion_matrix, ConfusionMatrixDisplay\n",
    "\n",
    "# Function for deriving a classification report & Confusion matrix for any algorithm\n",
    "def compute_metrics(data, y_true, model_obj, model):\n",
    "\n",
    "        # Make predictions\n",
    "    y_pred = model_obj.predict(data)\n",
    "    print(metrics.classification_report(y_true, y_pred,target_names = ['real', 'fake']))\n",
    "    \n",
    "    cm = confusion_matrix(y_true, y_pred, labels=model_obj.classes_)\n",
    "    disp = ConfusionMatrixDisplay(confusion_matrix=cm,display_labels=['real', 'fake'])\n",
    "    disp.plot()\n",
    "    plt.show()"
   ]
  },
  {
   "cell_type": "markdown",
   "metadata": {},
   "source": [
    "###### Logistic Regression Model"
   ]
  },
  {
   "cell_type": "code",
   "execution_count": 14,
   "metadata": {},
   "outputs": [
    {
     "data": {
      "text/plain": [
       "LogisticRegressionCV(Cs=20, cv=3, random_state=42)"
      ]
     },
     "execution_count": 14,
     "metadata": {},
     "output_type": "execute_result"
    }
   ],
   "source": [
    "# Import LogisticRegression model from sklearn library\n",
    "from sklearn.linear_model import LogisticRegressionCV\n",
    "\n",
    "# Initialize the model \n",
    "lr_reg = LogisticRegressionCV(Cs=20, cv=3, random_state=42)\n",
    "\n",
    "# fit the model\n",
    "lr_reg.fit(X_train, y_train)"
   ]
  },
  {
   "cell_type": "code",
   "execution_count": 15,
   "metadata": {},
   "outputs": [
    {
     "name": "stdout",
     "output_type": "stream",
     "text": [
      "              precision    recall  f1-score   support\n",
      "\n",
      "        real       1.00      1.00      1.00      2680\n",
      "        fake       1.00      1.00      1.00      1818\n",
      "\n",
      "    accuracy                           1.00      4498\n",
      "   macro avg       1.00      1.00      1.00      4498\n",
      "weighted avg       1.00      1.00      1.00      4498\n",
      "\n"
     ]
    },
    {
     "data": {
      "image/png": "[encoded data removed]",
      "text/plain": [
       "<Figure size 432x288 with 2 Axes>"
      ]
     },
     "metadata": {
      "needs_background": "light"
     },
     "output_type": "display_data"
    }
   ],
   "source": [
    "#  Compute the Evaluation Metrics for train set of Logistic Regression model\n",
    "lr_metrics_train =  compute_metrics(X_train, y_train, lr_reg, 'LogisticRegression')\n",
    "lr_metrics_train"
   ]
  },
  {
   "cell_type": "code",
   "execution_count": 16,
   "metadata": {},
   "outputs": [
    {
     "name": "stdout",
     "output_type": "stream",
     "text": [
      "              precision    recall  f1-score   support\n",
      "\n",
      "        real       1.00      1.00      1.00       296\n",
      "        fake       1.00      1.00      1.00       204\n",
      "\n",
      "    accuracy                           1.00       500\n",
      "   macro avg       1.00      1.00      1.00       500\n",
      "weighted avg       1.00      1.00      1.00       500\n",
      "\n"
     ]
    },
    {
     "data": {
      "image/png": "[encoded data removed]",
      "text/plain": [
       "<Figure size 432x288 with 2 Axes>"
      ]
     },
     "metadata": {
      "needs_background": "light"
     },
     "output_type": "display_data"
    }
   ],
   "source": [
    "# Compute the Evaluation Metrics for test set for Logistic Regression model\n",
    "lr_metrics =  compute_metrics(X_test, y_test, lr_reg, 'LogisticRegression')\n",
    "lr_metrics"
   ]
  },
  {
   "cell_type": "markdown",
   "metadata": {},
   "source": [
    "###### Naive Bayes Model"
   ]
  },
  {
   "cell_type": "code",
   "execution_count": 17,
   "metadata": {},
   "outputs": [
    {
     "data": {
      "text/plain": [
       "MultinomialNB(alpha=0.0)"
      ]
     },
     "execution_count": 17,
     "metadata": {},
     "output_type": "execute_result"
    }
   ],
   "source": [
    "# Import Naive Bayes model from sklearn library\n",
    "from sklearn.naive_bayes import MultinomialNB\n",
    "\n",
    "# Initialize the model \n",
    "mnb = MultinomialNB(alpha=0.0)\n",
    "\n",
    "# Fit the model\n",
    "mnb.fit(X_train, y_train)"
   ]
  },
  {
   "cell_type": "code",
   "execution_count": 18,
   "metadata": {},
   "outputs": [
    {
     "name": "stdout",
     "output_type": "stream",
     "text": [
      "              precision    recall  f1-score   support\n",
      "\n",
      "        real       1.00      0.99      0.99      2680\n",
      "        fake       0.98      1.00      0.99      1818\n",
      "\n",
      "    accuracy                           0.99      4498\n",
      "   macro avg       0.99      0.99      0.99      4498\n",
      "weighted avg       0.99      0.99      0.99      4498\n",
      "\n"
     ]
    },
    {
     "data": {
      "image/png": "[encoded data removed]",
      "text/plain": [
       "<Figure size 432x288 with 2 Axes>"
      ]
     },
     "metadata": {
      "needs_background": "light"
     },
     "output_type": "display_data"
    }
   ],
   "source": [
    "#  Compute the Evaluation Metrics for train set of Naive Bayes model\n",
    "mnb_metrics_train = compute_metrics(X_train, y_train, mnb, 'Naive Bayes')\n",
    "mnb_metrics_train"
   ]
  },
  {
   "cell_type": "code",
   "execution_count": 19,
   "metadata": {},
   "outputs": [
    {
     "name": "stdout",
     "output_type": "stream",
     "text": [
      "              precision    recall  f1-score   support\n",
      "\n",
      "        real       1.00      0.84      0.91       296\n",
      "        fake       0.81      1.00      0.90       204\n",
      "\n",
      "    accuracy                           0.91       500\n",
      "   macro avg       0.91      0.92      0.91       500\n",
      "weighted avg       0.92      0.91      0.91       500\n",
      "\n"
     ]
    },
    {
     "data": {
      "image/png": "[encoded data removed]",
      "text/plain": [
       "<Figure size 432x288 with 2 Axes>"
      ]
     },
     "metadata": {
      "needs_background": "light"
     },
     "output_type": "display_data"
    }
   ],
   "source": [
    "#  Compute the Evaluation Metrics for test set of Naive Bayes model\n",
    "mnb_metrics = compute_metrics(X_test, y_test, mnb, 'Naive Bayes')\n",
    "mnb_metrics"
   ]
  },
  {
   "cell_type": "code",
   "execution_count": null,
   "metadata": {},
   "outputs": [],
   "source": []
  }
 ],
 "metadata": {
  "kernelspec": {
   "display_name": "Python 3 (ipykernel)",
   "language": "python",
   "name": "python3"
  },
  "language_info": {
   "codemirror_mode": {
    "name": "ipython",
    "version": 3
   },
   "file_extension": ".py",
   "mimetype": "text/x-python",
   "name": "python",
   "nbconvert_exporter": "python",
   "pygments_lexer": "ipython3",
   "version": "3.9.12"
  }
 },
 "nbformat": 4,
 "nbformat_minor": 4
}
